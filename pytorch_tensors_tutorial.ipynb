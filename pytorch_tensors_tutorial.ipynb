{
 "cells": [
  {
   "cell_type": "code",
   "execution_count": 1,
   "id": "9a73d1f6",
   "metadata": {},
   "outputs": [],
   "source": [
    "# link to tutorial: https://docs.pytorch.org/tutorials/beginner/basics/tensorqs_tutorial.html"
   ]
  },
  {
   "cell_type": "code",
   "execution_count": 2,
   "id": "941dd198",
   "metadata": {},
   "outputs": [],
   "source": [
    "# tensors are specialized data structures that are similar to arrays\n",
    "# and matries. in pytorch use tensors to encode the inputs and outputs\n",
    "# of a model as well as model parameters\n",
    "# tensors are similar to numpy's ndarrays except that tensors can run \n",
    "# on gpus or other hardware accelerators\n",
    "# tensors and numpy arrays share the same underlying memory, eliminating\n",
    "# the need to copy data. tensors are also optimized for automatic \n",
    "# differentiation."
   ]
  },
  {
   "cell_type": "code",
   "execution_count": 3,
   "id": "70dd5325",
   "metadata": {},
   "outputs": [],
   "source": [
    "import torch\n",
    "import numpy as np "
   ]
  },
  {
   "cell_type": "code",
   "execution_count": 4,
   "id": "f4fa57bd",
   "metadata": {},
   "outputs": [],
   "source": [
    "# initializing a tensor. tensors can be initialized in various ways\n",
    "# directly from data \n",
    "# tensors can be created directly from data.\n",
    "# this data type is automatically inferred.\n",
    "\n",
    "data = [[1,2], [3,4]]\n",
    "x_data = torch.tensor(data)"
   ]
  },
  {
   "cell_type": "code",
   "execution_count": 5,
   "id": "0a9d4ebd",
   "metadata": {},
   "outputs": [],
   "source": [
    "# tensors can also be created from numpy arrays\n",
    "np_array = np.array(data)\n",
    "X_np = torch.from_numpy(np_array)"
   ]
  },
  {
   "cell_type": "code",
   "execution_count": 6,
   "id": "8da05291",
   "metadata": {},
   "outputs": [
    {
     "name": "stdout",
     "output_type": "stream",
     "text": [
      "Ones Tensor: \n",
      " tensor([[1, 1],\n",
      "        [1, 1]]) \n",
      "\n",
      "Random Tensor: \n",
      " tensor([[0.8269, 0.5505],\n",
      "        [0.2745, 0.1154]]) \n",
      "\n"
     ]
    }
   ],
   "source": [
    "# tensors can also be created from another tensor\n",
    "# the new tensor retains the properties of(shape, datatype) of the \n",
    "# argument tensor unless explicitly overriden.\n",
    "x_ones = torch.ones_like(x_data)\n",
    "# retains the properties of x_data\n",
    "print(f\"Ones Tensor: \\n {x_ones} \\n\")\n",
    "# overrides the datatype of x_data\n",
    "x_rand = torch.rand_like(x_data, dtype=torch.float)\n",
    "print(f\"Random Tensor: \\n {x_rand} \\n\")"
   ]
  },
  {
   "cell_type": "code",
   "execution_count": null,
   "id": "8b8bec5f",
   "metadata": {},
   "outputs": [],
   "source": []
  }
 ],
 "metadata": {
  "kernelspec": {
   "display_name": "Python 3 (ipykernel)",
   "language": "python",
   "name": "python3"
  },
  "language_info": {
   "codemirror_mode": {
    "name": "ipython",
    "version": 3
   },
   "file_extension": ".py",
   "mimetype": "text/x-python",
   "name": "python",
   "nbconvert_exporter": "python",
   "pygments_lexer": "ipython3",
   "version": "3.9.7"
  }
 },
 "nbformat": 4,
 "nbformat_minor": 5
}
