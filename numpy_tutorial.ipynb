{
  "nbformat": 4,
  "nbformat_minor": 0,
  "metadata": {
    "colab": {
      "provenance": []
    },
    "kernelspec": {
      "name": "python3",
      "display_name": "Python 3"
    },
    "language_info": {
      "name": "python"
    }
  },
  "cells": [
    {
      "cell_type": "code",
      "execution_count": null,
      "metadata": {
        "id": "a7y8CNAZAr2i"
      },
      "outputs": [],
      "source": [
        "# link to tutorial: https://www.datacamp.com/tutorial/python-numpy-tutorial"
      ]
    },
    {
      "cell_type": "code",
      "source": [
        "import numpy as np\n",
        "# one dimensional array definition\n",
        "one_d_array = np.array([1,2,3,4],\n",
        "                      dtype=np.int64)"
      ],
      "metadata": {
        "id": "7Iway9vHBEuK"
      },
      "execution_count": null,
      "outputs": []
    },
    {
      "cell_type": "code",
      "source": [
        "one_d_array"
      ],
      "metadata": {
        "colab": {
          "base_uri": "https://localhost:8080/"
        },
        "id": "RSqadcXLCd3r",
        "outputId": "b482f8d3-1da7-47e8-f99a-5630ea25aea8"
      },
      "execution_count": null,
      "outputs": [
        {
          "output_type": "execute_result",
          "data": {
            "text/plain": [
              "array([1, 2, 3, 4])"
            ]
          },
          "metadata": {},
          "execution_count": 5
        }
      ]
    },
    {
      "cell_type": "code",
      "source": [
        "one_d_array.shape"
      ],
      "metadata": {
        "id": "hN4-JTL9Cf86",
        "colab": {
          "base_uri": "https://localhost:8080/"
        },
        "outputId": "dbc45a01-e34a-4db4-d0ae-8108e42ab3bc"
      },
      "execution_count": null,
      "outputs": [
        {
          "output_type": "execute_result",
          "data": {
            "text/plain": [
              "(4,)"
            ]
          },
          "metadata": {},
          "execution_count": 6
        }
      ]
    },
    {
      "cell_type": "code",
      "source": [
        "# two dimensional array definition\n",
        "two_d_array = np.array([[1, 2, 3, 4],\n",
        "                        [5, 6, 7, 8]],\n",
        "                       dtype=np.int64)"
      ],
      "metadata": {
        "id": "HJAqMLBwRSwT"
      },
      "execution_count": null,
      "outputs": []
    },
    {
      "cell_type": "code",
      "source": [
        "two_d_array"
      ],
      "metadata": {
        "colab": {
          "base_uri": "https://localhost:8080/"
        },
        "id": "9jbjgEOeSzVT",
        "outputId": "7dc00b02-2428-425d-cf8b-5b1cc9c7568b"
      },
      "execution_count": null,
      "outputs": [
        {
          "output_type": "execute_result",
          "data": {
            "text/plain": [
              "array([[1, 2, 3, 4],\n",
              "       [5, 6, 7, 8]])"
            ]
          },
          "metadata": {},
          "execution_count": 8
        }
      ]
    },
    {
      "cell_type": "code",
      "source": [
        "two_d_array.shape"
      ],
      "metadata": {
        "colab": {
          "base_uri": "https://localhost:8080/"
        },
        "id": "iN22-eqtS2xB",
        "outputId": "2c255f32-0977-4f09-fd75-6277a27f0394"
      },
      "execution_count": null,
      "outputs": [
        {
          "output_type": "execute_result",
          "data": {
            "text/plain": [
              "(2, 4)"
            ]
          },
          "metadata": {},
          "execution_count": 9
        }
      ]
    },
    {
      "cell_type": "code",
      "source": [
        "# three dimension array definition\n",
        "three_d_array = np.array([[[1,2,3,4],\n",
        "                           [5,6,7,8]],\n",
        "                          [[1,2,3,4],\n",
        "                           [9, 10, 11, 12]]],\n",
        "                         dtype=np.int64)"
      ],
      "metadata": {
        "id": "UeOrkX_UB765"
      },
      "execution_count": null,
      "outputs": []
    },
    {
      "cell_type": "code",
      "source": [
        "three_d_array.shape"
      ],
      "metadata": {
        "colab": {
          "base_uri": "https://localhost:8080/"
        },
        "id": "PyjQ57IrCtVP",
        "outputId": "c6eee502-eec3-4d86-e276-39e707e75dc4"
      },
      "execution_count": null,
      "outputs": [
        {
          "output_type": "execute_result",
          "data": {
            "text/plain": [
              "(2, 2, 4)"
            ]
          },
          "metadata": {},
          "execution_count": 14
        }
      ]
    },
    {
      "cell_type": "code",
      "source": [
        "print(one_d_array)"
      ],
      "metadata": {
        "colab": {
          "base_uri": "https://localhost:8080/"
        },
        "id": "yMM_7C3QCIC8",
        "outputId": "7db64ede-2076-4df5-b7c9-ecb2c5471aeb"
      },
      "execution_count": null,
      "outputs": [
        {
          "output_type": "stream",
          "name": "stdout",
          "text": [
            "[1 2 3 4]\n"
          ]
        }
      ]
    },
    {
      "cell_type": "code",
      "source": [
        "print(two_d_array)"
      ],
      "metadata": {
        "colab": {
          "base_uri": "https://localhost:8080/"
        },
        "id": "ZmMT1HivCmEa",
        "outputId": "e65803f3-4012-497d-81db-f263749a1f1e"
      },
      "execution_count": null,
      "outputs": [
        {
          "output_type": "stream",
          "name": "stdout",
          "text": [
            "[[1 2 3 4]\n",
            " [5 6 7 8]]\n"
          ]
        }
      ]
    },
    {
      "cell_type": "code",
      "source": [
        "print(three_d_array)"
      ],
      "metadata": {
        "colab": {
          "base_uri": "https://localhost:8080/"
        },
        "id": "POUJ7_lVCo7v",
        "outputId": "19b169bc-a84c-44fa-c9ca-6fd3da35d3a4"
      },
      "execution_count": null,
      "outputs": [
        {
          "output_type": "stream",
          "name": "stdout",
          "text": [
            "[[[ 1  2  3  4]\n",
            "  [ 5  6  7  8]]\n",
            "\n",
            " [[ 1  2  3  4]\n",
            "  [ 9 10 11 12]]]\n"
          ]
        }
      ]
    },
    {
      "cell_type": "code",
      "source": [
        "two_d_array = np.array([[1,2,3,4], [5,6,7,8]], dtype=np.int64)\n",
        "\n",
        "# print the mememory address\n",
        "print(\"Memory address:\", two_d_array.data)\n",
        "print(\"Array shape:\", two_d_array.shape)\n",
        "print(\"Array data type:\", two_d_array.dtype)\n",
        "print(\"Stride of the array:\", two_d_array.strides)"
      ],
      "metadata": {
        "colab": {
          "base_uri": "https://localhost:8080/"
        },
        "id": "ZrtsjB9VDeG5",
        "outputId": "64957031-e37d-4a5a-f737-3265a9b746ba"
      },
      "execution_count": null,
      "outputs": [
        {
          "output_type": "stream",
          "name": "stdout",
          "text": [
            "Memory address: <memory at 0x7c4bf323fb90>\n",
            "Array shape: (2, 4)\n",
            "Array data type: int64\n",
            "Stride of the array: (32, 8)\n"
          ]
        }
      ]
    },
    {
      "cell_type": "code",
      "source": [
        "test_array = np.array([[1,2,3,4], [5,6,7,8]], dtype=np.int64)\n",
        "print(\"Test array:\")\n",
        "print(test_array)"
      ],
      "metadata": {
        "colab": {
          "base_uri": "https://localhost:8080/"
        },
        "id": "srei3IVBEeLv",
        "outputId": "4dd56f6d-ad03-4b76-9a70-23c693278b0e"
      },
      "execution_count": null,
      "outputs": [
        {
          "output_type": "stream",
          "name": "stdout",
          "text": [
            "Test array:\n",
            "[[1 2 3 4]\n",
            " [5 6 7 8]]\n"
          ]
        }
      ]
    },
    {
      "cell_type": "code",
      "source": [
        "# creating an array with ones\n",
        "array_with_ones = np.ones((3,4))\n",
        "print(\"array_with_ones:\")\n",
        "print(array_with_ones)"
      ],
      "metadata": {
        "colab": {
          "base_uri": "https://localhost:8080/"
        },
        "id": "9TH2JuC4F_SW",
        "outputId": "f2f2b90d-4f60-435e-cf00-4dac46166915"
      },
      "execution_count": null,
      "outputs": [
        {
          "output_type": "stream",
          "name": "stdout",
          "text": [
            "array_with_ones:\n",
            "[[1. 1. 1. 1.]\n",
            " [1. 1. 1. 1.]\n",
            " [1. 1. 1. 1.]]\n"
          ]
        }
      ]
    },
    {
      "cell_type": "code",
      "source": [
        "# creating an array with zeros\n",
        "array_with_zeros = np.zeros((2, 3, 4), dtype=np.int16)\n",
        "print(\"array with zeros:\")\n",
        "print(array_with_zeros)"
      ],
      "metadata": {
        "colab": {
          "base_uri": "https://localhost:8080/"
        },
        "id": "UhGGFqDYGQyi",
        "outputId": "45beda75-8c52-4240-e019-c414b760f9ce"
      },
      "execution_count": null,
      "outputs": [
        {
          "output_type": "stream",
          "name": "stdout",
          "text": [
            "array with zeros:\n",
            "[[[0 0 0 0]\n",
            "  [0 0 0 0]\n",
            "  [0 0 0 0]]\n",
            "\n",
            " [[0 0 0 0]\n",
            "  [0 0 0 0]\n",
            "  [0 0 0 0]]]\n"
          ]
        }
      ]
    },
    {
      "cell_type": "code",
      "source": [
        "# creating an array with random values\n",
        "array_with_random_values = np.random.random((2,2))\n",
        "print(\"array with random values:\")\n",
        "print(array_with_random_values)"
      ],
      "metadata": {
        "colab": {
          "base_uri": "https://localhost:8080/"
        },
        "id": "ksUuOzgfG-dP",
        "outputId": "0c156056-5496-408d-db9e-b95abe899e89"
      },
      "execution_count": null,
      "outputs": [
        {
          "output_type": "stream",
          "name": "stdout",
          "text": [
            "array with random values:\n",
            "[[0.7252345  0.00349828]\n",
            " [0.92110458 0.52065876]]\n"
          ]
        }
      ]
    },
    {
      "cell_type": "code",
      "source": [
        "# creating an array with no values (empty array)\n",
        "array_with_no_values = np.empty((3, 2))\n",
        "print(\"array with no values:\")\n",
        "print(array_with_no_values)"
      ],
      "metadata": {
        "colab": {
          "base_uri": "https://localhost:8080/"
        },
        "id": "A-igcrqKHMqp",
        "outputId": "e6b7151a-8bc8-414d-fc13-af34ae4536d9"
      },
      "execution_count": null,
      "outputs": [
        {
          "output_type": "stream",
          "name": "stdout",
          "text": [
            "array with no values:\n",
            "[[2.87047458e-315 0.00000000e+000]\n",
            " [0.00000000e+000 0.00000000e+000]\n",
            " [0.00000000e+000 0.00000000e+000]]\n"
          ]
        }
      ]
    },
    {
      "cell_type": "code",
      "source": [
        "# creating an array filled with values\n",
        "full_array = np.full((2,2), 7)\n",
        "print(\"full array:\")\n",
        "print(full_array)"
      ],
      "metadata": {
        "colab": {
          "base_uri": "https://localhost:8080/"
        },
        "id": "15T9PcGeHxJV",
        "outputId": "b5cc4bb4-ffd2-4742-8d8c-a7bd36c4bb59"
      },
      "execution_count": null,
      "outputs": [
        {
          "output_type": "stream",
          "name": "stdout",
          "text": [
            "full array:\n",
            "[[7 7]\n",
            " [7 7]]\n"
          ]
        }
      ]
    },
    {
      "cell_type": "code",
      "source": [
        "# creating an array with evenly spaced values\n",
        "arange_array = np.arange(0, 15, 5)\n",
        "print(\"arange array:\")\n",
        "print(arange_array)"
      ],
      "metadata": {
        "colab": {
          "base_uri": "https://localhost:8080/"
        },
        "id": "c-O7bAW0I5Re",
        "outputId": "3fc9a2fc-5cec-4df0-a54c-1efd8fa09f99"
      },
      "execution_count": null,
      "outputs": [
        {
          "output_type": "stream",
          "name": "stdout",
          "text": [
            "arange array:\n",
            "[ 0  5 10]\n"
          ]
        }
      ]
    },
    {
      "cell_type": "code",
      "source": [
        "arange_array_two = np.linspace(0,2,9)\n",
        "print(\"arange array two:\")\n",
        "print(arange_array_two)"
      ],
      "metadata": {
        "colab": {
          "base_uri": "https://localhost:8080/"
        },
        "id": "wBLPtLOnJQBP",
        "outputId": "0f7f344e-e499-46ff-e1ee-df4c19d737c2"
      },
      "execution_count": null,
      "outputs": [
        {
          "output_type": "stream",
          "name": "stdout",
          "text": [
            "arange array two:\n",
            "[0.   0.25 0.5  0.75 1.   1.25 1.5  1.75 2.  ]\n"
          ]
        }
      ]
    },
    {
      "cell_type": "code",
      "source": [
        "# if your data file looks like this\n",
        "###################################\n",
        "# This is your data in the text file\n",
        "# Value1  Value2  Value3\n",
        "# 0.2536  0.1008  0.3857\n",
        "# 0.4839  0.4536  0.3561\n",
        "# 0.1292  0.6875  0.5929\n",
        "# 0.1781  0.3049  0.8928\n",
        "# 0.6253  0.3486  0.8791\n",
        "\n",
        "# you can import it like this:\n",
        "x, y, z = np.loadtxt('data.txt',\n",
        "                     skiprows=1,\n",
        "                     unpack=True)"
      ],
      "metadata": {
        "id": "AItDFR_UT3PG"
      },
      "execution_count": null,
      "outputs": []
    },
    {
      "cell_type": "code",
      "source": [
        "# if your data file looks like this\n",
        "###################################\n",
        "# Your data in the text file\n",
        "# Value1  Value2  Value3\n",
        "# 0.4839  0.4536  0.3561\n",
        "# 0.1292  0.6875  MISSING\n",
        "# 0.1781  0.3049  0.8928\n",
        "# MISSING 0.5801  0.2038\n",
        "# 0.5993  0.4357  0.7410\n",
        "\n",
        "# you can import it like this\n",
        "input_array = np.genfromtxt('data.txt',\n",
        "                            skip_header=1,\n",
        "                            filling_values=-999)"
      ],
      "metadata": {
        "id": "LlxoAANPUQTX"
      },
      "execution_count": null,
      "outputs": []
    },
    {
      "cell_type": "code",
      "source": [
        "# save numpy arrays\n",
        "x = np.arange(0.0, 5.0, 1.0)\n",
        "np.savetxt('test.out', x, delimiter=',')"
      ],
      "metadata": {
        "id": "S6_27VVKUvvB"
      },
      "execution_count": null,
      "outputs": []
    },
    {
      "cell_type": "code",
      "source": [
        "ls"
      ],
      "metadata": {
        "colab": {
          "base_uri": "https://localhost:8080/"
        },
        "id": "ciCZPZx6VOyU",
        "outputId": "3c0167f6-3833-4035-d26a-f025b7c4027c"
      },
      "execution_count": null,
      "outputs": [
        {
          "output_type": "stream",
          "name": "stdout",
          "text": [
            "\u001b[0m\u001b[01;34msample_data\u001b[0m/  test.out\n"
          ]
        }
      ]
    },
    {
      "cell_type": "code",
      "source": [
        "# inspect your arrays\n",
        "\n",
        "# create an array with the shape (2,4) and int64 datatype\n",
        "\n",
        "array_a = np.array([[1,2,3,4], [5,6,7,8]], dtype=np.int64)"
      ],
      "metadata": {
        "id": "J6c7XoeNZB0H"
      },
      "execution_count": null,
      "outputs": []
    },
    {
      "cell_type": "code",
      "source": [
        "# get the number of dimensions of the array\n",
        "print(\"Array dimensions:\", array_a.ndim)"
      ],
      "metadata": {
        "colab": {
          "base_uri": "https://localhost:8080/"
        },
        "id": "lSLKsUGweZM8",
        "outputId": "17597bd5-f3aa-4d47-a9a1-4bf618e1585b"
      },
      "execution_count": null,
      "outputs": [
        {
          "output_type": "stream",
          "name": "stdout",
          "text": [
            "Array dimensions: 2\n"
          ]
        }
      ]
    },
    {
      "cell_type": "code",
      "source": [
        "# get the number of elements in the array\n",
        "print(\"Array size:\", array_a.size)"
      ],
      "metadata": {
        "colab": {
          "base_uri": "https://localhost:8080/"
        },
        "id": "LJpbYzHCetGZ",
        "outputId": "4593943f-50ef-45c6-c812-12b7292894a6"
      },
      "execution_count": null,
      "outputs": [
        {
          "output_type": "stream",
          "name": "stdout",
          "text": [
            "Array size: 8\n"
          ]
        }
      ]
    },
    {
      "cell_type": "code",
      "source": [
        "# get array information about memory layout\n",
        "print(\"Array memory layout:\", array_a.flags)"
      ],
      "metadata": {
        "colab": {
          "base_uri": "https://localhost:8080/"
        },
        "id": "WE2NNO01evKF",
        "outputId": "a590078f-2f12-4a55-d469-c26550b74747"
      },
      "execution_count": null,
      "outputs": [
        {
          "output_type": "stream",
          "name": "stdout",
          "text": [
            "Array memory layout:   C_CONTIGUOUS : True\n",
            "  F_CONTIGUOUS : False\n",
            "  OWNDATA : True\n",
            "  WRITEABLE : True\n",
            "  ALIGNED : True\n",
            "  WRITEBACKIFCOPY : False\n",
            "\n"
          ]
        }
      ]
    },
    {
      "cell_type": "code",
      "source": [
        "# get the length of one array element in bytes\n",
        "print(\"Array item size:\", array_a.itemsize)"
      ],
      "metadata": {
        "colab": {
          "base_uri": "https://localhost:8080/"
        },
        "id": "H_xt5sEzfJfp",
        "outputId": "1dc1dabc-c1ce-47c3-c04a-d16898d191da"
      },
      "execution_count": null,
      "outputs": [
        {
          "output_type": "stream",
          "name": "stdout",
          "text": [
            "Array item size: 8\n"
          ]
        }
      ]
    },
    {
      "cell_type": "code",
      "source": [
        "# get the number of total consumed bytes by the array elements\n",
        "print(\"total consumed bytes by the array:\", array_a.nbytes)"
      ],
      "metadata": {
        "colab": {
          "base_uri": "https://localhost:8080/"
        },
        "id": "U45Hg7umfW5f",
        "outputId": "84d826d0-5319-4b43-9be9-7e78c6f05647"
      },
      "execution_count": null,
      "outputs": [
        {
          "output_type": "stream",
          "name": "stdout",
          "text": [
            "total consumed bytes by the array: 64\n"
          ]
        }
      ]
    },
    {
      "cell_type": "code",
      "source": [
        "# print the length of the array\n",
        "print(\"Array length:\", len(array_a))"
      ],
      "metadata": {
        "colab": {
          "base_uri": "https://localhost:8080/"
        },
        "id": "Z4idZqG3fi2T",
        "outputId": "77126fcb-de54-455f-d252-ce3b44e6df46"
      },
      "execution_count": null,
      "outputs": [
        {
          "output_type": "stream",
          "name": "stdout",
          "text": [
            "Array length: 2\n"
          ]
        }
      ]
    },
    {
      "cell_type": "code",
      "source": [
        "# change the data type of the array to float\n",
        "array_a.astype(np.float32)"
      ],
      "metadata": {
        "colab": {
          "base_uri": "https://localhost:8080/"
        },
        "id": "oXWWfMLLf3q6",
        "outputId": "0eeb639d-0335-4e06-b225-b4ad9553b3e9"
      },
      "execution_count": null,
      "outputs": [
        {
          "output_type": "execute_result",
          "data": {
            "text/plain": [
              "array([[1., 2., 3., 4.],\n",
              "       [5., 6., 7., 8.]], dtype=float32)"
            ]
          },
          "metadata": {},
          "execution_count": 61
        }
      ]
    },
    {
      "cell_type": "code",
      "source": [
        "#broadcasting numpy arrays\n",
        "#create a 3x4 array with ones\n",
        "array_x = np.ones((3,4))\n",
        "print(\"Shape of array_x:\", array_x.shape)"
      ],
      "metadata": {
        "colab": {
          "base_uri": "https://localhost:8080/"
        },
        "id": "lZ8Pd9S_dTV1",
        "outputId": "10584fce-1636-4d02-8efe-1f8b14d61602"
      },
      "execution_count": null,
      "outputs": [
        {
          "output_type": "stream",
          "name": "stdout",
          "text": [
            "Shape of array_x: (3, 4)\n"
          ]
        }
      ]
    },
    {
      "cell_type": "code",
      "source": [
        "# create a 3x4 array with random numbers\n",
        "array_y = np.random.random((3,4))\n",
        "print(\"array_y shape:\", array_y.shape)"
      ],
      "metadata": {
        "colab": {
          "base_uri": "https://localhost:8080/"
        },
        "id": "8kLkDtabdtsZ",
        "outputId": "c19b35a9-2b5a-47e8-faa5-01204aaaa80d"
      },
      "execution_count": null,
      "outputs": [
        {
          "output_type": "stream",
          "name": "stdout",
          "text": [
            "array_y shape: (3, 4)\n"
          ]
        }
      ]
    },
    {
      "cell_type": "code",
      "source": [
        "# add the arrays x and y element wise\n",
        "array_z = array_x + array_y\n",
        "print(\"result of x + y:\\n\", array_z)\n",
        "print(\"shape of x + y:\", array_z.shape)"
      ],
      "metadata": {
        "colab": {
          "base_uri": "https://localhost:8080/"
        },
        "id": "SNzEUBqgd-Fv",
        "outputId": "993b886c-5a63-46a0-b2d0-b51a8c393c44"
      },
      "execution_count": null,
      "outputs": [
        {
          "output_type": "stream",
          "name": "stdout",
          "text": [
            "result of x + y:\n",
            " [[1.41574261 1.70283717 1.50916979 1.89770955]\n",
            " [1.17426614 1.97716136 1.80579669 1.59902368]\n",
            " [1.76870284 1.60337829 1.37179365 1.23708325]]\n",
            "shape of x + y: (3, 4)\n"
          ]
        }
      ]
    },
    {
      "cell_type": "code",
      "source": [
        "# if dimensions of the arrays are compatible only then they can be broadcast together\n",
        "array_x = np.ones((3,4))\n",
        "array_y = np.random.random((5,1,4))\n",
        "array_z = array_x + array_y"
      ],
      "metadata": {
        "id": "ryspa2zmeHM7"
      },
      "execution_count": null,
      "outputs": []
    },
    {
      "cell_type": "code",
      "source": [
        "# the reason addition works is because they are compatible 3 x 4 array with 5 x 1 x 4 array\n",
        "array_z"
      ],
      "metadata": {
        "colab": {
          "base_uri": "https://localhost:8080/"
        },
        "id": "uxdRGXVgiK3U",
        "outputId": "bbf63b02-d125-4f25-fe72-2c8af973f3ad"
      },
      "execution_count": null,
      "outputs": [
        {
          "output_type": "execute_result",
          "data": {
            "text/plain": [
              "array([[[1.4484775 , 1.23620622, 1.52659127, 1.73423808],\n",
              "        [1.4484775 , 1.23620622, 1.52659127, 1.73423808],\n",
              "        [1.4484775 , 1.23620622, 1.52659127, 1.73423808]],\n",
              "\n",
              "       [[1.99764817, 1.16859689, 1.31242314, 1.81139029],\n",
              "        [1.99764817, 1.16859689, 1.31242314, 1.81139029],\n",
              "        [1.99764817, 1.16859689, 1.31242314, 1.81139029]],\n",
              "\n",
              "       [[1.09681799, 1.9324461 , 1.05437422, 1.8567809 ],\n",
              "        [1.09681799, 1.9324461 , 1.05437422, 1.8567809 ],\n",
              "        [1.09681799, 1.9324461 , 1.05437422, 1.8567809 ]],\n",
              "\n",
              "       [[1.64384387, 1.97595262, 1.62374487, 1.58031591],\n",
              "        [1.64384387, 1.97595262, 1.62374487, 1.58031591],\n",
              "        [1.64384387, 1.97595262, 1.62374487, 1.58031591]],\n",
              "\n",
              "       [[1.43223524, 1.73612582, 1.94070857, 1.23878811],\n",
              "        [1.43223524, 1.73612582, 1.94070857, 1.23878811],\n",
              "        [1.43223524, 1.73612582, 1.94070857, 1.23878811]]])"
            ]
          },
          "metadata": {},
          "execution_count": 11
        }
      ]
    },
    {
      "cell_type": "code",
      "source": [
        "x = np.array([[1,2,3], [3,4,5]])\n",
        "y = np.array([6,7,8])\n",
        "\n",
        "# add x + y = z\n",
        "z = np.add(x,y)\n",
        "print(\"sum of x + y:\\n\", z)"
      ],
      "metadata": {
        "colab": {
          "base_uri": "https://localhost:8080/"
        },
        "id": "e9UtJcNSi3F3",
        "outputId": "b07e5ae1-9b5b-4196-ec45-7291240a0a37"
      },
      "execution_count": null,
      "outputs": [
        {
          "output_type": "stream",
          "name": "stdout",
          "text": [
            "sum of x + y:\n",
            " [[ 7  9 11]\n",
            " [ 9 11 13]]\n"
          ]
        }
      ]
    },
    {
      "cell_type": "code",
      "source": [
        "# subtract x - y = z\n",
        "z = np.subtract(x,y)\n",
        "print(\"difference of x - y\\n\", z)"
      ],
      "metadata": {
        "colab": {
          "base_uri": "https://localhost:8080/"
        },
        "id": "YuJfmLVmk49H",
        "outputId": "49e4411a-b8b5-4e2f-d4d9-4025508f2be1"
      },
      "execution_count": null,
      "outputs": [
        {
          "output_type": "stream",
          "name": "stdout",
          "text": [
            "difference of x - y\n",
            " [[-5 -5 -5]\n",
            " [-3 -3 -3]]\n"
          ]
        }
      ]
    },
    {
      "cell_type": "code",
      "source": [
        "#multiply x and y\n",
        "z = np.multiply(x,y)\n",
        "print(\"product of x and y\\n\", z)"
      ],
      "metadata": {
        "colab": {
          "base_uri": "https://localhost:8080/"
        },
        "id": "0x8FlZr2kxyG",
        "outputId": "75673858-dd27-422e-cbf3-668211d791e1"
      },
      "execution_count": null,
      "outputs": [
        {
          "output_type": "stream",
          "name": "stdout",
          "text": [
            "product of x and y\n",
            " [[ 6 14 24]\n",
            " [18 28 40]]\n"
          ]
        }
      ]
    },
    {
      "cell_type": "code",
      "source": [
        "a = np.array([1, 1, 0, 0], dtype=bool)\n",
        "b = np.array([1, 0, 1, 0], dtype=bool)\n",
        "\n",
        "# logical and\n",
        "np.logical_and(a,b)"
      ],
      "metadata": {
        "colab": {
          "base_uri": "https://localhost:8080/"
        },
        "id": "N87mAFh0lXff",
        "outputId": "dfe20e64-7409-4798-e78b-bf32151993f4"
      },
      "execution_count": null,
      "outputs": [
        {
          "output_type": "execute_result",
          "data": {
            "text/plain": [
              "array([ True, False, False, False])"
            ]
          },
          "metadata": {},
          "execution_count": 18
        }
      ]
    },
    {
      "cell_type": "code",
      "source": [
        "# logical or\n",
        "np.logical_or(a,b)"
      ],
      "metadata": {
        "colab": {
          "base_uri": "https://localhost:8080/"
        },
        "id": "M2ktVzLXnHTN",
        "outputId": "b192d2f0-bd0c-4b08-a4b6-f34419cff87e"
      },
      "execution_count": null,
      "outputs": [
        {
          "output_type": "execute_result",
          "data": {
            "text/plain": [
              "array([ True,  True,  True, False])"
            ]
          },
          "metadata": {},
          "execution_count": 19
        }
      ]
    },
    {
      "cell_type": "code",
      "source": [
        "# logical a not b\n",
        "np.logical_not(a,b)"
      ],
      "metadata": {
        "colab": {
          "base_uri": "https://localhost:8080/"
        },
        "id": "XdL_gI8QnNHn",
        "outputId": "bbcf92ea-1bb9-4261-eaba-cb2a48d426ce"
      },
      "execution_count": null,
      "outputs": [
        {
          "output_type": "execute_result",
          "data": {
            "text/plain": [
              "array([False, False,  True,  True])"
            ]
          },
          "metadata": {},
          "execution_count": 21
        }
      ]
    },
    {
      "cell_type": "code",
      "source": [
        "c = np.logical_not(a)\n",
        "c"
      ],
      "metadata": {
        "colab": {
          "base_uri": "https://localhost:8080/"
        },
        "id": "fFrK5prunOro",
        "outputId": "993a6dad-8403-4693-f951-9ac1352fe386"
      },
      "execution_count": null,
      "outputs": [
        {
          "output_type": "execute_result",
          "data": {
            "text/plain": [
              "array([False, False,  True,  True])"
            ]
          },
          "metadata": {},
          "execution_count": 23
        }
      ]
    },
    {
      "cell_type": "code",
      "source": [
        "# subsetting\n",
        "import numpy as np\n",
        "x = np.array([1,2,3,4])\n",
        "print(x[1])"
      ],
      "metadata": {
        "colab": {
          "base_uri": "https://localhost:8080/"
        },
        "id": "55Ku-Oq6pQKD",
        "outputId": "c585a3d5-5304-4ed0-ca7c-d680bcd7a331"
      },
      "execution_count": 2,
      "outputs": [
        {
          "output_type": "stream",
          "name": "stdout",
          "text": [
            "2\n"
          ]
        }
      ]
    },
    {
      "cell_type": "code",
      "source": [
        "# create a 2d array\n",
        "y = np.array([[1,2,3,4], [5,6,7,8]], dtype=np.int64)\n",
        "print(y[1][2])\n",
        "print(y[1,2])"
      ],
      "metadata": {
        "colab": {
          "base_uri": "https://localhost:8080/"
        },
        "id": "xSh7yMr3Obfa",
        "outputId": "aa69e4b2-24f4-4853-a282-d68cf5d42faf"
      },
      "execution_count": 5,
      "outputs": [
        {
          "output_type": "stream",
          "name": "stdout",
          "text": [
            "7\n",
            "7\n"
          ]
        }
      ]
    },
    {
      "cell_type": "code",
      "source": [
        "# create a 3d array\n",
        "z = np.array([[[1,2,3,4], [5,6,7,8]], [[9, 10, 11, 12],[13, 14, 15, 16]]], dtype=np.int64)\n",
        "print(z[1,1,2])"
      ],
      "metadata": {
        "colab": {
          "base_uri": "https://localhost:8080/"
        },
        "id": "k_-rnJhVPD1A",
        "outputId": "63a9efbb-41b2-45bd-8044-1a10178c9898"
      },
      "execution_count": 6,
      "outputs": [
        {
          "output_type": "stream",
          "name": "stdout",
          "text": [
            "15\n"
          ]
        }
      ]
    },
    {
      "cell_type": "code",
      "source": [
        "# slicing\n",
        "x = np.array([1,2,3,4])\n",
        "print(x[0:2])"
      ],
      "metadata": {
        "colab": {
          "base_uri": "https://localhost:8080/"
        },
        "id": "cZ5VfTvEPvGS",
        "outputId": "a6a63d23-f6f5-4e09-daf4-2aa59f91f218"
      },
      "execution_count": null,
      "outputs": [
        {
          "output_type": "stream",
          "name": "stdout",
          "text": [
            "[1 2]\n"
          ]
        }
      ]
    },
    {
      "cell_type": "code",
      "source": [
        "y = np.array([[1,2,3,4], [5,6,7,8]], dtype=np.int64)\n",
        "print(y[0:2, 1])"
      ],
      "metadata": {
        "colab": {
          "base_uri": "https://localhost:8080/"
        },
        "id": "NVhKIDxzP6YN",
        "outputId": "c7ed5865-2105-4967-df18-88e3979ea0c4"
      },
      "execution_count": null,
      "outputs": [
        {
          "output_type": "stream",
          "name": "stdout",
          "text": [
            "[2 6]\n"
          ]
        }
      ]
    },
    {
      "cell_type": "code",
      "source": [
        "print(z[1,...])"
      ],
      "metadata": {
        "colab": {
          "base_uri": "https://localhost:8080/"
        },
        "id": "OxOa4_9nQNas",
        "outputId": "ae841af6-f690-4c8b-8a18-8bc3f0ad16ef"
      },
      "execution_count": null,
      "outputs": [
        {
          "output_type": "stream",
          "name": "stdout",
          "text": [
            "[[ 9 10 11 12]\n",
            " [13 14 15 16]]\n"
          ]
        }
      ]
    },
    {
      "cell_type": "code",
      "source": [
        "# a[start:end] items start through the end (but the end is not included)\n",
        "# a[start:]  items start through the rest of the array\n",
        "# a[:end] items from the beginning through the end (but the end is not included)"
      ],
      "metadata": {
        "id": "3v1fq8YLRscK"
      },
      "execution_count": null,
      "outputs": []
    },
    {
      "cell_type": "code",
      "source": [
        "#indexing\n",
        "print(x[x<2])"
      ],
      "metadata": {
        "colab": {
          "base_uri": "https://localhost:8080/"
        },
        "id": "yxae8M-WR7iV",
        "outputId": "800a1771-7e1f-48a6-92db-6b42436469eb"
      },
      "execution_count": null,
      "outputs": [
        {
          "output_type": "stream",
          "name": "stdout",
          "text": [
            "[1]\n"
          ]
        }
      ]
    },
    {
      "cell_type": "code",
      "source": [
        "# condition\n",
        "greater_than_three = (z >= 3)\n",
        "print(z[greater_than_three])"
      ],
      "metadata": {
        "colab": {
          "base_uri": "https://localhost:8080/"
        },
        "id": "PV9bDwO3R5CG",
        "outputId": "cf4c93e3-b3e6-4291-fd0a-51054bc582c5"
      },
      "execution_count": null,
      "outputs": [
        {
          "output_type": "stream",
          "name": "stdout",
          "text": [
            "[ 3  4  5  6  7  8  9 10 11 12 13 14 15 16]\n"
          ]
        }
      ]
    },
    {
      "cell_type": "code",
      "source": [
        "# select elements at (1,0), (0,1), (1,2) and (0,0)\n",
        "print(\"first\",y[[1,0,1,0]])\n",
        "# select a subset of the rows and columns\n",
        "print(\"second\",y[[1,0,1,0]][:,[0,1,2,0]])"
      ],
      "metadata": {
        "colab": {
          "base_uri": "https://localhost:8080/"
        },
        "id": "5ebxh_jgRzsc",
        "outputId": "75bdcbe0-ad92-48a5-d3a4-42e30c14fdcc"
      },
      "execution_count": null,
      "outputs": [
        {
          "output_type": "stream",
          "name": "stdout",
          "text": [
            "first [[5 6 7 8]\n",
            " [1 2 3 4]\n",
            " [5 6 7 8]\n",
            " [1 2 3 4]]\n",
            "second [[5 6 7 5]\n",
            " [1 2 3 1]\n",
            " [5 6 7 5]\n",
            " [1 2 3 1]]\n"
          ]
        }
      ]
    },
    {
      "cell_type": "code",
      "source": [
        "print(np.lookfor(\"mean\"))"
      ],
      "metadata": {
        "colab": {
          "base_uri": "https://localhost:8080/",
          "height": 343
        },
        "id": "EdWBWK8_WtZT",
        "outputId": "de1ae887-7c56-4871-b235-4cc04a4bf7ff"
      },
      "execution_count": null,
      "outputs": [
        {
          "output_type": "error",
          "ename": "AttributeError",
          "evalue": "`np.lookfor` was removed in the NumPy 2.0 release. Search NumPy's documentation directly.",
          "traceback": [
            "\u001b[0;31m---------------------------------------------------------------------------\u001b[0m",
            "\u001b[0;31mAttributeError\u001b[0m                            Traceback (most recent call last)",
            "\u001b[0;32m/tmp/ipython-input-697909391.py\u001b[0m in \u001b[0;36m<cell line: 0>\u001b[0;34m()\u001b[0m\n\u001b[0;32m----> 1\u001b[0;31m \u001b[0mprint\u001b[0m\u001b[0;34m(\u001b[0m\u001b[0mnp\u001b[0m\u001b[0;34m.\u001b[0m\u001b[0mlookfor\u001b[0m\u001b[0;34m(\u001b[0m\u001b[0;34m\"mean\"\u001b[0m\u001b[0;34m)\u001b[0m\u001b[0;34m)\u001b[0m\u001b[0;34m\u001b[0m\u001b[0;34m\u001b[0m\u001b[0m\n\u001b[0m",
            "\u001b[0;32m/usr/local/lib/python3.12/dist-packages/numpy/__init__.py\u001b[0m in \u001b[0;36m__getattr__\u001b[0;34m(attr)\u001b[0m\n\u001b[1;32m    395\u001b[0m \u001b[0;34m\u001b[0m\u001b[0m\n\u001b[1;32m    396\u001b[0m         \u001b[0;32mif\u001b[0m \u001b[0mattr\u001b[0m \u001b[0;32min\u001b[0m \u001b[0m__expired_attributes__\u001b[0m\u001b[0;34m:\u001b[0m\u001b[0;34m\u001b[0m\u001b[0;34m\u001b[0m\u001b[0m\n\u001b[0;32m--> 397\u001b[0;31m             raise AttributeError(\n\u001b[0m\u001b[1;32m    398\u001b[0m                 \u001b[0;34mf\"`np.{attr}` was removed in the NumPy 2.0 release. \"\u001b[0m\u001b[0;34m\u001b[0m\u001b[0;34m\u001b[0m\u001b[0m\n\u001b[1;32m    399\u001b[0m                 \u001b[0;34mf\"{__expired_attributes__[attr]}\"\u001b[0m\u001b[0;34m\u001b[0m\u001b[0;34m\u001b[0m\u001b[0m\n",
            "\u001b[0;31mAttributeError\u001b[0m: `np.lookfor` was removed in the NumPy 2.0 release. Search NumPy's documentation directly."
          ]
        }
      ]
    },
    {
      "cell_type": "code",
      "source": [
        "np.info(np.ndarray.dtype)"
      ],
      "metadata": {
        "colab": {
          "base_uri": "https://localhost:8080/"
        },
        "id": "6ejP7YbpWz9Z",
        "outputId": "f8097eca-1105-4b2a-902a-ecd0a6e3e268"
      },
      "execution_count": null,
      "outputs": [
        {
          "output_type": "stream",
          "name": "stdout",
          "text": [
            "Data-type of the array's elements.\n",
            "\n",
            ".. warning::\n",
            "\n",
            "    Setting ``arr.dtype`` is discouraged and may be deprecated in the\n",
            "    future.  Setting will replace the ``dtype`` without modifying the\n",
            "    memory (see also `ndarray.view` and `ndarray.astype`).\n",
            "\n",
            "Parameters\n",
            "----------\n",
            "None\n",
            "\n",
            "Returns\n",
            "-------\n",
            "d : numpy dtype object\n",
            "\n",
            "See Also\n",
            "--------\n",
            "ndarray.astype : Cast the values contained in the array to a new data-type.\n",
            "ndarray.view : Create a view of the same data but a different data-type.\n",
            "numpy.dtype\n",
            "\n",
            "Examples\n",
            "--------\n",
            ">>> x\n",
            "array([[0, 1],\n",
            "       [2, 3]])\n",
            ">>> x.dtype\n",
            "dtype('int32')\n",
            ">>> type(x.dtype)\n",
            "<type 'numpy.dtype'>\n"
          ]
        }
      ]
    },
    {
      "cell_type": "code",
      "source": [
        "print(y)"
      ],
      "metadata": {
        "colab": {
          "base_uri": "https://localhost:8080/"
        },
        "id": "_R5ifb5XZPpX",
        "outputId": "aa195275-6006-4806-afcc-4b3699422bd6"
      },
      "execution_count": null,
      "outputs": [
        {
          "output_type": "stream",
          "name": "stdout",
          "text": [
            "[[1 2 3 4]\n",
            " [5 6 7 8]]\n"
          ]
        }
      ]
    },
    {
      "cell_type": "code",
      "source": [
        "# transpose\n",
        "np.transpose(y)"
      ],
      "metadata": {
        "colab": {
          "base_uri": "https://localhost:8080/"
        },
        "id": "pr8eM2rdZtjJ",
        "outputId": "649f575b-c695-4d0b-d325-5fa124cc2ac6"
      },
      "execution_count": 7,
      "outputs": [
        {
          "output_type": "execute_result",
          "data": {
            "text/plain": [
              "array([[1, 5],\n",
              "       [2, 6],\n",
              "       [3, 7],\n",
              "       [4, 8]])"
            ]
          },
          "metadata": {},
          "execution_count": 7
        }
      ]
    },
    {
      "cell_type": "code",
      "source": [
        "# to transpose an array you can also do this:\n",
        "print(y.T)"
      ],
      "metadata": {
        "colab": {
          "base_uri": "https://localhost:8080/"
        },
        "id": "KFhKH3pxfFFQ",
        "outputId": "b5cabb71-8e1e-4e00-e9d7-e23ed6579b9f"
      },
      "execution_count": 8,
      "outputs": [
        {
          "output_type": "stream",
          "name": "stdout",
          "text": [
            "[[1 5]\n",
            " [2 6]\n",
            " [3 7]\n",
            " [4 8]]\n"
          ]
        }
      ]
    },
    {
      "cell_type": "code",
      "source": [
        "# trying to transpose a one d array\n",
        "print(x)\n",
        "print(\"x transposed:\", x.T)\n",
        "# there is no effect on a one dimensional array"
      ],
      "metadata": {
        "colab": {
          "base_uri": "https://localhost:8080/"
        },
        "id": "zwK9uiO0ffAK",
        "outputId": "2f3447f9-933d-4cea-b33e-6f5cf26f2c93"
      },
      "execution_count": 11,
      "outputs": [
        {
          "output_type": "stream",
          "name": "stdout",
          "text": [
            "[1 2 3 4]\n",
            "x transposed: [1 2 3 4]\n"
          ]
        }
      ]
    },
    {
      "cell_type": "code",
      "source": [
        "# to do arithmetic with arrays you might have to resize them\n",
        "d = np.ones((3,4))\n",
        "print(d.shape)\n",
        "print(d)"
      ],
      "metadata": {
        "colab": {
          "base_uri": "https://localhost:8080/"
        },
        "id": "lZCnZ8lkfo4k",
        "outputId": "6e794e95-48d8-48eb-a81d-618703609837"
      },
      "execution_count": 14,
      "outputs": [
        {
          "output_type": "stream",
          "name": "stdout",
          "text": [
            "(3, 4)\n",
            "[[1. 1. 1. 1.]\n",
            " [1. 1. 1. 1.]\n",
            " [1. 1. 1. 1.]]\n"
          ]
        }
      ]
    },
    {
      "cell_type": "code",
      "source": [
        "# resize them\n",
        "np.resize(d, (6,4))"
      ],
      "metadata": {
        "colab": {
          "base_uri": "https://localhost:8080/"
        },
        "id": "4oxb2QXlgHw8",
        "outputId": "2dca25a2-4038-459f-9cfc-a2397d34c600"
      },
      "execution_count": 15,
      "outputs": [
        {
          "output_type": "execute_result",
          "data": {
            "text/plain": [
              "array([[1., 1., 1., 1.],\n",
              "       [1., 1., 1., 1.],\n",
              "       [1., 1., 1., 1.],\n",
              "       [1., 1., 1., 1.],\n",
              "       [1., 1., 1., 1.],\n",
              "       [1., 1., 1., 1.]])"
            ]
          },
          "metadata": {},
          "execution_count": 15
        }
      ]
    },
    {
      "cell_type": "code",
      "source": [
        "d.resize((6,4))\n",
        "d"
      ],
      "metadata": {
        "colab": {
          "base_uri": "https://localhost:8080/"
        },
        "id": "kHsmjROrgktK",
        "outputId": "ace7818c-1c25-4b53-f5ae-73a2cb01620f"
      },
      "execution_count": 17,
      "outputs": [
        {
          "output_type": "execute_result",
          "data": {
            "text/plain": [
              "array([[1., 1., 1., 1.],\n",
              "       [1., 1., 1., 1.],\n",
              "       [1., 1., 1., 1.],\n",
              "       [0., 0., 0., 0.],\n",
              "       [0., 0., 0., 0.],\n",
              "       [0., 0., 0., 0.]])"
            ]
          },
          "metadata": {},
          "execution_count": 17
        }
      ]
    },
    {
      "cell_type": "code",
      "source": [
        "# arrays can be reshaped as well\n",
        "d = np.ones((3,4))\n",
        "print(\"array d shape:\", d.shape)"
      ],
      "metadata": {
        "colab": {
          "base_uri": "https://localhost:8080/"
        },
        "id": "vZkJalQFhfHJ",
        "outputId": "6610778b-ef45-4dc9-d3d1-0efceef78d2d"
      },
      "execution_count": 18,
      "outputs": [
        {
          "output_type": "stream",
          "name": "stdout",
          "text": [
            "array d shape: (3, 4)\n"
          ]
        }
      ]
    },
    {
      "cell_type": "code",
      "source": [
        "np.resize(d, (6,4))"
      ],
      "metadata": {
        "colab": {
          "base_uri": "https://localhost:8080/"
        },
        "id": "UPVD4tyFh2Kk",
        "outputId": "8c2ba604-bbb9-4b35-ae21-1b45cd18d236"
      },
      "execution_count": 20,
      "outputs": [
        {
          "output_type": "execute_result",
          "data": {
            "text/plain": [
              "array([[1., 1., 1., 1.],\n",
              "       [1., 1., 1., 1.],\n",
              "       [1., 1., 1., 1.],\n",
              "       [1., 1., 1., 1.],\n",
              "       [1., 1., 1., 1.],\n",
              "       [1., 1., 1., 1.]])"
            ]
          },
          "metadata": {},
          "execution_count": 20
        }
      ]
    },
    {
      "cell_type": "code",
      "source": [
        "d.resize((6,4))\n",
        "d"
      ],
      "metadata": {
        "colab": {
          "base_uri": "https://localhost:8080/"
        },
        "id": "L2Vl5aSiiDDE",
        "outputId": "bc649b7e-048b-4968-b721-abdc77ebc20d"
      },
      "execution_count": 22,
      "outputs": [
        {
          "output_type": "execute_result",
          "data": {
            "text/plain": [
              "array([[1., 1., 1., 1.],\n",
              "       [1., 1., 1., 1.],\n",
              "       [1., 1., 1., 1.],\n",
              "       [0., 0., 0., 0.],\n",
              "       [0., 0., 0., 0.],\n",
              "       [0., 0., 0., 0.]])"
            ]
          },
          "metadata": {},
          "execution_count": 22
        }
      ]
    },
    {
      "cell_type": "code",
      "source": [
        "# shape of aray before transposing\n",
        "print(\"array before transposing\", d)\n",
        "print(\"shape of array before transposing\", d.shape)"
      ],
      "metadata": {
        "colab": {
          "base_uri": "https://localhost:8080/"
        },
        "id": "QZqIISePiKlX",
        "outputId": "a208bf33-9c24-4afd-c335-ccb07f432f44"
      },
      "execution_count": 23,
      "outputs": [
        {
          "output_type": "stream",
          "name": "stdout",
          "text": [
            "array before transposing [[1. 1. 1. 1.]\n",
            " [1. 1. 1. 1.]\n",
            " [1. 1. 1. 1.]\n",
            " [0. 0. 0. 0.]\n",
            " [0. 0. 0. 0.]\n",
            " [0. 0. 0. 0.]]\n",
            "shape of array before transposing (6, 4)\n"
          ]
        }
      ]
    },
    {
      "cell_type": "code",
      "source": [
        "# transpose the array\n",
        "d = d.T\n",
        "print(\"array after transposing\", d)\n",
        "print(\"shape of array after transposing\", d.shape)"
      ],
      "metadata": {
        "colab": {
          "base_uri": "https://localhost:8080/"
        },
        "id": "UNvacdE3iZOn",
        "outputId": "504b6cb5-57c7-4c2b-8347-2e319846d523"
      },
      "execution_count": 24,
      "outputs": [
        {
          "output_type": "stream",
          "name": "stdout",
          "text": [
            "array after transposing [[1. 1. 1. 0. 0. 0.]\n",
            " [1. 1. 1. 0. 0. 0.]\n",
            " [1. 1. 1. 0. 0. 0.]\n",
            " [1. 1. 1. 0. 0. 0.]]\n",
            "shape of array after transposing (4, 6)\n"
          ]
        }
      ]
    },
    {
      "cell_type": "code",
      "source": [
        "# appending arrays\n",
        "# creating a new array\n",
        "x = np.array([1,2,3,4])\n",
        "print(\"array before appending\", x)\n",
        "# append the array\n",
        "appended_array = np.append(x, [5,6,7,8])\n",
        "print(\"array after appending\", appended_array)\n",
        "print(\"original array after appending\", x)"
      ],
      "metadata": {
        "colab": {
          "base_uri": "https://localhost:8080/"
        },
        "id": "UD8sFQGujGyR",
        "outputId": "0f3e0876-9892-4389-ec93-f8f6581b6729"
      },
      "execution_count": 26,
      "outputs": [
        {
          "output_type": "stream",
          "name": "stdout",
          "text": [
            "array before appending [1 2 3 4]\n",
            "array after appending [1 2 3 4 5 6 7 8]\n",
            "original array after appending [1 2 3 4]\n"
          ]
        }
      ]
    },
    {
      "cell_type": "code",
      "source": [
        "# appending two dimensional arrays\n",
        "print(\"2d array before appending:\\n\", y)\n",
        "# axis 1 indicates columns and axis 0 indicates rows in 2 d arrays\n",
        "appended_two_d_array = np.append(y, [[10], [11]], axis=1)\n",
        "print(\"appended two d array:\\n\", appended_two_d_array)\n",
        "print(\"original two d array:\\n\", y)"
      ],
      "metadata": {
        "colab": {
          "base_uri": "https://localhost:8080/"
        },
        "id": "TfWumwdPkG5L",
        "outputId": "10f85153-aa0a-4593-86af-f0409ff7ecf9"
      },
      "execution_count": 30,
      "outputs": [
        {
          "output_type": "stream",
          "name": "stdout",
          "text": [
            "2d array before appending:\n",
            " [[1 2 3 4]\n",
            " [5 6 7 8]]\n",
            "appended two d array:\n",
            " [[ 1  2  3  4 10]\n",
            " [ 5  6  7  8 11]]\n",
            "original two d array:\n",
            " [[1 2 3 4]\n",
            " [5 6 7 8]]\n"
          ]
        }
      ]
    },
    {
      "cell_type": "code",
      "source": [
        "x"
      ],
      "metadata": {
        "colab": {
          "base_uri": "https://localhost:8080/"
        },
        "id": "DmidmOvilw1n",
        "outputId": "77f5888b-e6af-4483-edcd-e5701c8af637"
      },
      "execution_count": 42,
      "outputs": [
        {
          "output_type": "execute_result",
          "data": {
            "text/plain": [
              "array([1, 2, 3, 4])"
            ]
          },
          "metadata": {},
          "execution_count": 42
        }
      ]
    },
    {
      "cell_type": "code",
      "source": [
        "y"
      ],
      "metadata": {
        "colab": {
          "base_uri": "https://localhost:8080/"
        },
        "id": "ricdKcxWnMN1",
        "outputId": "7505039f-1c03-4591-b21f-49cbdc51be39"
      },
      "execution_count": 32,
      "outputs": [
        {
          "output_type": "execute_result",
          "data": {
            "text/plain": [
              "array([[1, 2, 3, 4],\n",
              "       [5, 6, 7, 8]])"
            ]
          },
          "metadata": {},
          "execution_count": 32
        }
      ]
    },
    {
      "cell_type": "code",
      "source": [
        "# insert 10 at index 1 in one dimensional array\n",
        "x = np.insert(x, 1, 10)\n",
        "x"
      ],
      "metadata": {
        "colab": {
          "base_uri": "https://localhost:8080/"
        },
        "id": "tXgopAUNnbz_",
        "outputId": "4f7dda61-692b-4697-a339-57d054ee884a"
      },
      "execution_count": 46,
      "outputs": [
        {
          "output_type": "execute_result",
          "data": {
            "text/plain": [
              "array([ 1, 10, 10,  2,  3,  4])"
            ]
          },
          "metadata": {},
          "execution_count": 46
        }
      ]
    },
    {
      "cell_type": "code",
      "source": [
        "# deleted the value at index 1\n",
        "np.delete(x, 1)"
      ],
      "metadata": {
        "colab": {
          "base_uri": "https://localhost:8080/"
        },
        "id": "O2QUVOcsnnOb",
        "outputId": "ee0fedaf-22f7-4540-950e-243f5f005496"
      },
      "execution_count": 45,
      "outputs": [
        {
          "output_type": "execute_result",
          "data": {
            "text/plain": [
              "array([1, 2, 3, 4])"
            ]
          },
          "metadata": {},
          "execution_count": 45
        }
      ]
    },
    {
      "cell_type": "code",
      "source": [
        "# join and split arrays\n",
        "x = np.ones((4,))\n",
        "x"
      ],
      "metadata": {
        "colab": {
          "base_uri": "https://localhost:8080/"
        },
        "id": "bBif4jsVpliA",
        "outputId": "b208f0dd-96ee-4c26-a17f-167f5e604291"
      },
      "execution_count": 47,
      "outputs": [
        {
          "output_type": "execute_result",
          "data": {
            "text/plain": [
              "array([1., 1., 1., 1.])"
            ]
          },
          "metadata": {},
          "execution_count": 47
        }
      ]
    },
    {
      "cell_type": "code",
      "source": [
        "array = np.array([1,2,3,4])\n",
        "resized_array = np.resize(array,(2,4))\n",
        "print(\"resized array:\\n\", resized_array)\n",
        "my_2d_array = y\n",
        "my_2d_array"
      ],
      "metadata": {
        "colab": {
          "base_uri": "https://localhost:8080/"
        },
        "id": "pnKgw2N-ppjp",
        "outputId": "899d3f5d-e004-43d8-b443-da9f8261e4c7"
      },
      "execution_count": 48,
      "outputs": [
        {
          "output_type": "stream",
          "name": "stdout",
          "text": [
            "resized array:\n",
            " [[1 2 3 4]\n",
            " [1 2 3 4]]\n"
          ]
        },
        {
          "output_type": "execute_result",
          "data": {
            "text/plain": [
              "array([[1, 2, 3, 4],\n",
              "       [5, 6, 7, 8]])"
            ]
          },
          "metadata": {},
          "execution_count": 48
        }
      ]
    },
    {
      "cell_type": "code",
      "source": [
        "# concatenate x and array\n",
        "print(np.concatenate((array, x)))"
      ],
      "metadata": {
        "colab": {
          "base_uri": "https://localhost:8080/"
        },
        "id": "uH0Wg9KCpmIk",
        "outputId": "22825703-fd6b-431b-b3a2-92ee1258a0b3"
      },
      "execution_count": 49,
      "outputs": [
        {
          "output_type": "stream",
          "name": "stdout",
          "text": [
            "[1. 2. 3. 4. 1. 1. 1. 1.]\n"
          ]
        }
      ]
    },
    {
      "cell_type": "code",
      "source": [
        "# stack arrays row wise\n",
        "print(np.vstack((array, my_2d_array)))"
      ],
      "metadata": {
        "colab": {
          "base_uri": "https://localhost:8080/"
        },
        "id": "Q8vsqGMKpnDU",
        "outputId": "66ae4100-d36c-4f0a-b199-aa6ee40a32df"
      },
      "execution_count": 50,
      "outputs": [
        {
          "output_type": "stream",
          "name": "stdout",
          "text": [
            "[[1 2 3 4]\n",
            " [1 2 3 4]\n",
            " [5 6 7 8]]\n"
          ]
        }
      ]
    },
    {
      "cell_type": "code",
      "source": [
        "print(np.r_(resized_array, my_2d_array))"
      ],
      "metadata": {
        "colab": {
          "base_uri": "https://localhost:8080/",
          "height": 173
        },
        "id": "NkKeUUm-pndc",
        "outputId": "7c41b5df-d6a1-4f1b-ac22-48f6e2f94dc4"
      },
      "execution_count": 51,
      "outputs": [
        {
          "output_type": "error",
          "ename": "TypeError",
          "evalue": "'RClass' object is not callable",
          "traceback": [
            "\u001b[0;31m---------------------------------------------------------------------------\u001b[0m",
            "\u001b[0;31mTypeError\u001b[0m                                 Traceback (most recent call last)",
            "\u001b[0;32m/tmp/ipython-input-2883115434.py\u001b[0m in \u001b[0;36m<cell line: 0>\u001b[0;34m()\u001b[0m\n\u001b[0;32m----> 1\u001b[0;31m \u001b[0mprint\u001b[0m\u001b[0;34m(\u001b[0m\u001b[0mnp\u001b[0m\u001b[0;34m.\u001b[0m\u001b[0mr_\u001b[0m\u001b[0;34m(\u001b[0m\u001b[0mresized_array\u001b[0m\u001b[0;34m,\u001b[0m \u001b[0mmy_2d_array\u001b[0m\u001b[0;34m)\u001b[0m\u001b[0;34m)\u001b[0m\u001b[0;34m\u001b[0m\u001b[0;34m\u001b[0m\u001b[0m\n\u001b[0m",
            "\u001b[0;31mTypeError\u001b[0m: 'RClass' object is not callable"
          ]
        }
      ]
    },
    {
      "cell_type": "code",
      "source": [
        "# stack arrays horizontally\n",
        "print(np.hstack((resized_array, my_2d_array)))"
      ],
      "metadata": {
        "colab": {
          "base_uri": "https://localhost:8080/"
        },
        "id": "uz3G-xAbrFsb",
        "outputId": "043737d5-ef2b-4220-f961-e1d476bfbff7"
      },
      "execution_count": 52,
      "outputs": [
        {
          "output_type": "stream",
          "name": "stdout",
          "text": [
            "[[1 2 3 4 1 2 3 4]\n",
            " [1 2 3 4 5 6 7 8]]\n"
          ]
        }
      ]
    },
    {
      "cell_type": "code",
      "source": [
        "# stack arrays column wise\n",
        "print(np.column_stack((resized_array, my_2d_array)))"
      ],
      "metadata": {
        "colab": {
          "base_uri": "https://localhost:8080/"
        },
        "id": "XJEIa2jyrR_u",
        "outputId": "820df310-727a-47da-97f2-8e68aee33428"
      },
      "execution_count": 54,
      "outputs": [
        {
          "output_type": "stream",
          "name": "stdout",
          "text": [
            "[[1 2 3 4 1 2 3 4]\n",
            " [1 2 3 4 5 6 7 8]]\n"
          ]
        }
      ]
    },
    {
      "cell_type": "code",
      "source": [
        "# stack arrays column wise\n",
        "print(np.c_[resized_array, my_2d_array])"
      ],
      "metadata": {
        "colab": {
          "base_uri": "https://localhost:8080/"
        },
        "id": "KNPZxyH_raMw",
        "outputId": "7ff44f28-b251-44eb-b03e-aab05db263ff"
      },
      "execution_count": 55,
      "outputs": [
        {
          "output_type": "stream",
          "name": "stdout",
          "text": [
            "[[1 2 3 4 1 2 3 4]\n",
            " [1 2 3 4 5 6 7 8]]\n"
          ]
        }
      ]
    },
    {
      "cell_type": "code",
      "source": [
        "x = np.array([1,2,3,4])\n",
        "resized_array = np.resize(x, (2,4))\n",
        "resized_array"
      ],
      "metadata": {
        "colab": {
          "base_uri": "https://localhost:8080/"
        },
        "id": "qPEO7N1bsAtO",
        "outputId": "2eb5a098-f25e-4323-ca9f-36465a912750"
      },
      "execution_count": 56,
      "outputs": [
        {
          "output_type": "execute_result",
          "data": {
            "text/plain": [
              "array([[1, 2, 3, 4],\n",
              "       [1, 2, 3, 4]])"
            ]
          },
          "metadata": {},
          "execution_count": 56
        }
      ]
    },
    {
      "cell_type": "code",
      "source": [
        "# two dimensional array\n",
        "y"
      ],
      "metadata": {
        "colab": {
          "base_uri": "https://localhost:8080/"
        },
        "id": "fPvj7YVnsc1i",
        "outputId": "31e8fc01-3dc7-46aa-af75-6e200dd4cdd2"
      },
      "execution_count": 59,
      "outputs": [
        {
          "output_type": "execute_result",
          "data": {
            "text/plain": [
              "array([[1, 2, 3, 4],\n",
              "       [5, 6, 7, 8]])"
            ]
          },
          "metadata": {},
          "execution_count": 59
        }
      ]
    },
    {
      "cell_type": "code",
      "source": [
        "stacked_array = np.hstack((resized_array, y))\n",
        "stacked_array"
      ],
      "metadata": {
        "colab": {
          "base_uri": "https://localhost:8080/"
        },
        "id": "MCF1Q5bEsnGa",
        "outputId": "06c8ad8f-de27-4b20-c847-5db7ac559c2a"
      },
      "execution_count": 62,
      "outputs": [
        {
          "output_type": "execute_result",
          "data": {
            "text/plain": [
              "array([[1, 2, 3, 4, 1, 2, 3, 4],\n",
              "       [1, 2, 3, 4, 5, 6, 7, 8]])"
            ]
          },
          "metadata": {},
          "execution_count": 62
        }
      ]
    },
    {
      "cell_type": "code",
      "source": [
        "#split the stacked array horizontally at the 2nd index\n",
        "print(np.hsplit(stacked_array, 2))"
      ],
      "metadata": {
        "colab": {
          "base_uri": "https://localhost:8080/"
        },
        "id": "8NTlwEmIs36R",
        "outputId": "a6582098-cd3e-46d8-c084-592864642b95"
      },
      "execution_count": 64,
      "outputs": [
        {
          "output_type": "stream",
          "name": "stdout",
          "text": [
            "[array([[1, 2, 3, 4],\n",
            "       [1, 2, 3, 4]]), array([[1, 2, 3, 4],\n",
            "       [5, 6, 7, 8]])]\n"
          ]
        }
      ]
    },
    {
      "cell_type": "code",
      "source": [
        "# split stacked array vertically at the 2nd index\n",
        "print(np.vsplit(stacked_array, 2))"
      ],
      "metadata": {
        "colab": {
          "base_uri": "https://localhost:8080/"
        },
        "id": "nRel71VBs5ML",
        "outputId": "0ca9c1ef-86c0-4fc9-eae9-fddf3598e037"
      },
      "execution_count": 65,
      "outputs": [
        {
          "output_type": "stream",
          "name": "stdout",
          "text": [
            "[array([[1, 2, 3, 4, 1, 2, 3, 4]]), array([[1, 2, 3, 4, 5, 6, 7, 8]])]\n"
          ]
        }
      ]
    },
    {
      "cell_type": "code",
      "source": [
        "# 3d array\n",
        "z"
      ],
      "metadata": {
        "colab": {
          "base_uri": "https://localhost:8080/"
        },
        "id": "1oBu7MO7tWCQ",
        "outputId": "1557a356-3e7b-4951-a575-7cd694a81ef9"
      },
      "execution_count": 66,
      "outputs": [
        {
          "output_type": "execute_result",
          "data": {
            "text/plain": [
              "array([[[ 1,  2,  3,  4],\n",
              "        [ 5,  6,  7,  8]],\n",
              "\n",
              "       [[ 9, 10, 11, 12],\n",
              "        [13, 14, 15, 16]]])"
            ]
          },
          "metadata": {},
          "execution_count": 66
        }
      ]
    },
    {
      "cell_type": "code",
      "source": [
        "# pass the array to histogram\n",
        "print(np.histogram(z))"
      ],
      "metadata": {
        "colab": {
          "base_uri": "https://localhost:8080/"
        },
        "id": "4gLSLlHztZkY",
        "outputId": "c45d4de4-653b-456a-a896-039226ab7b43"
      },
      "execution_count": 67,
      "outputs": [
        {
          "output_type": "stream",
          "name": "stdout",
          "text": [
            "(array([2, 1, 2, 1, 2, 1, 2, 1, 2, 2]), array([ 1. ,  2.5,  4. ,  5.5,  7. ,  8.5, 10. , 11.5, 13. , 14.5, 16. ]))\n"
          ]
        }
      ]
    },
    {
      "cell_type": "code",
      "source": [
        "#specify the number of bins\n",
        "print(np.histogram(z, bins=range(0,13)))"
      ],
      "metadata": {
        "colab": {
          "base_uri": "https://localhost:8080/"
        },
        "id": "FEuRU2DStkCN",
        "outputId": "db2c979f-c68d-4823-f47b-d09664d8a880"
      },
      "execution_count": 69,
      "outputs": [
        {
          "output_type": "stream",
          "name": "stdout",
          "text": [
            "(array([0, 1, 1, 1, 1, 1, 1, 1, 1, 1, 1, 2]), array([ 0,  1,  2,  3,  4,  5,  6,  7,  8,  9, 10, 11, 12]))\n"
          ]
        }
      ]
    },
    {
      "cell_type": "code",
      "source": [
        "# visualize the histogram\n",
        "import matplotlib.pyplot as plt\n",
        "# construct the histogram with flattened 3 d array and a range of bins\n",
        "plt.hist(z.flatten(), bins=range(0,13))\n",
        "# add a plot title\n",
        "plt.title(\"Histogram of 3d array\")\n",
        "# show the plot\n",
        "plt.show()"
      ],
      "metadata": {
        "colab": {
          "base_uri": "https://localhost:8080/",
          "height": 452
        },
        "id": "VnnKP_DetlA0",
        "outputId": "d901e39e-352b-467b-d96d-cc8c5f78febd"
      },
      "execution_count": 71,
      "outputs": [
        {
          "output_type": "display_data",
          "data": {
            "text/plain": [
              "<Figure size 640x480 with 1 Axes>"
            ],
            "image/png": "[encoded data removed]"
          },
          "metadata": {}
        }
      ]
    },
    {
      "cell_type": "code",
      "source": [
        "# you can also visualize arrays using np.meshgrid()\n",
        "\n",
        "# create an array\n",
        "points = np.arange(-5, 5, 0.01)\n",
        "\n",
        "#make a mesh grid\n",
        "xs, ys = np.meshgrid(points, points)\n",
        "z = np.sqrt(xs ** 2 + ys ** 2)\n",
        "# display the image on axes\n",
        "plt.imshow(z, cmap=plt.cm.gray)\n",
        "# draw a color bar\n",
        "plt.colorbar()\n",
        "# show the plot\n",
        "plt.show()"
      ],
      "metadata": {
        "colab": {
          "base_uri": "https://localhost:8080/",
          "height": 435
        },
        "id": "BOicaWYYt7NA",
        "outputId": "a8379bf3-87fb-4856-8281-378b8cfb2155"
      },
      "execution_count": 75,
      "outputs": [
        {
          "output_type": "display_data",
          "data": {
            "text/plain": [
              "<Figure size 640x480 with 2 Axes>"
            ],
            "image/png": "[encoded data removed]"
          },
          "metadata": {}
        }
      ]
    }
  ]
}