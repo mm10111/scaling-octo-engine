{
  "nbformat": 4,
  "nbformat_minor": 0,
  "metadata": {
    "colab": {
      "provenance": []
    },
    "kernelspec": {
      "name": "python3",
      "display_name": "Python 3"
    },
    "language_info": {
      "name": "python"
    }
  },
  "cells": [
    {
      "cell_type": "code",
      "execution_count": 3,
      "metadata": {
        "id": "a7y8CNAZAr2i"
      },
      "outputs": [],
      "source": [
        "# link to tutorial: https://www.datacamp.com/tutorial/python-numpy-tutorial"
      ]
    },
    {
      "cell_type": "code",
      "source": [
        "import numpy as np\n",
        "# one dimensional array definition\n",
        "one_d_array = np.array([1,2,3,4],\n",
        "                      dtype=np.int64)"
      ],
      "metadata": {
        "id": "7Iway9vHBEuK"
      },
      "execution_count": 4,
      "outputs": []
    },
    {
      "cell_type": "code",
      "source": [
        "one_d_array"
      ],
      "metadata": {
        "colab": {
          "base_uri": "https://localhost:8080/"
        },
        "id": "RSqadcXLCd3r",
        "outputId": "b482f8d3-1da7-47e8-f99a-5630ea25aea8"
      },
      "execution_count": 5,
      "outputs": [
        {
          "output_type": "execute_result",
          "data": {
            "text/plain": [
              "array([1, 2, 3, 4])"
            ]
          },
          "metadata": {},
          "execution_count": 5
        }
      ]
    },
    {
      "cell_type": "code",
      "source": [
        "one_d_array.shape"
      ],
      "metadata": {
        "id": "hN4-JTL9Cf86",
        "colab": {
          "base_uri": "https://localhost:8080/"
        },
        "outputId": "dbc45a01-e34a-4db4-d0ae-8108e42ab3bc"
      },
      "execution_count": 6,
      "outputs": [
        {
          "output_type": "execute_result",
          "data": {
            "text/plain": [
              "(4,)"
            ]
          },
          "metadata": {},
          "execution_count": 6
        }
      ]
    },
    {
      "cell_type": "code",
      "source": [
        "# two dimensional array definition\n",
        "two_d_array = np.array([[1, 2, 3, 4],\n",
        "                        [5, 6, 7, 8]],\n",
        "                       dtype=np.int64)"
      ],
      "metadata": {
        "id": "HJAqMLBwRSwT"
      },
      "execution_count": 7,
      "outputs": []
    },
    {
      "cell_type": "code",
      "source": [
        "two_d_array"
      ],
      "metadata": {
        "colab": {
          "base_uri": "https://localhost:8080/"
        },
        "id": "9jbjgEOeSzVT",
        "outputId": "7dc00b02-2428-425d-cf8b-5b1cc9c7568b"
      },
      "execution_count": 8,
      "outputs": [
        {
          "output_type": "execute_result",
          "data": {
            "text/plain": [
              "array([[1, 2, 3, 4],\n",
              "       [5, 6, 7, 8]])"
            ]
          },
          "metadata": {},
          "execution_count": 8
        }
      ]
    },
    {
      "cell_type": "code",
      "source": [
        "two_d_array.shape"
      ],
      "metadata": {
        "colab": {
          "base_uri": "https://localhost:8080/"
        },
        "id": "iN22-eqtS2xB",
        "outputId": "2c255f32-0977-4f09-fd75-6277a27f0394"
      },
      "execution_count": 9,
      "outputs": [
        {
          "output_type": "execute_result",
          "data": {
            "text/plain": [
              "(2, 4)"
            ]
          },
          "metadata": {},
          "execution_count": 9
        }
      ]
    },
    {
      "cell_type": "code",
      "source": [
        "# three dimension array definition\n",
        "three_d_array = np.array([[[1,2,3,4],\n",
        "                           [5,6,7,8]],\n",
        "                          [[1,2,3,4],\n",
        "                           [9, 10, 11, 12]]],\n",
        "                         dtype=np.int64)"
      ],
      "metadata": {
        "id": "UeOrkX_UB765"
      },
      "execution_count": 10,
      "outputs": []
    },
    {
      "cell_type": "code",
      "source": [
        "three_d_array.shape"
      ],
      "metadata": {
        "colab": {
          "base_uri": "https://localhost:8080/"
        },
        "id": "PyjQ57IrCtVP",
        "outputId": "c6eee502-eec3-4d86-e276-39e707e75dc4"
      },
      "execution_count": 14,
      "outputs": [
        {
          "output_type": "execute_result",
          "data": {
            "text/plain": [
              "(2, 2, 4)"
            ]
          },
          "metadata": {},
          "execution_count": 14
        }
      ]
    },
    {
      "cell_type": "code",
      "source": [
        "print(one_d_array)"
      ],
      "metadata": {
        "colab": {
          "base_uri": "https://localhost:8080/"
        },
        "id": "yMM_7C3QCIC8",
        "outputId": "7db64ede-2076-4df5-b7c9-ecb2c5471aeb"
      },
      "execution_count": 11,
      "outputs": [
        {
          "output_type": "stream",
          "name": "stdout",
          "text": [
            "[1 2 3 4]\n"
          ]
        }
      ]
    },
    {
      "cell_type": "code",
      "source": [
        "print(two_d_array)"
      ],
      "metadata": {
        "colab": {
          "base_uri": "https://localhost:8080/"
        },
        "id": "ZmMT1HivCmEa",
        "outputId": "e65803f3-4012-497d-81db-f263749a1f1e"
      },
      "execution_count": 12,
      "outputs": [
        {
          "output_type": "stream",
          "name": "stdout",
          "text": [
            "[[1 2 3 4]\n",
            " [5 6 7 8]]\n"
          ]
        }
      ]
    },
    {
      "cell_type": "code",
      "source": [
        "print(three_d_array)"
      ],
      "metadata": {
        "colab": {
          "base_uri": "https://localhost:8080/"
        },
        "id": "POUJ7_lVCo7v",
        "outputId": "19b169bc-a84c-44fa-c9ca-6fd3da35d3a4"
      },
      "execution_count": 13,
      "outputs": [
        {
          "output_type": "stream",
          "name": "stdout",
          "text": [
            "[[[ 1  2  3  4]\n",
            "  [ 5  6  7  8]]\n",
            "\n",
            " [[ 1  2  3  4]\n",
            "  [ 9 10 11 12]]]\n"
          ]
        }
      ]
    },
    {
      "cell_type": "code",
      "source": [
        "two_d_array = np.array([[1,2,3,4], [5,6,7,8]], dtype=np.int64)\n",
        "\n",
        "# print the mememory address\n",
        "print(\"Memory address:\", two_d_array.data)\n",
        "print(\"Array shape:\", two_d_array.shape)\n",
        "print(\"Array data type:\", two_d_array.dtype)\n",
        "print(\"Stride of the array:\", two_d_array.strides)"
      ],
      "metadata": {
        "colab": {
          "base_uri": "https://localhost:8080/"
        },
        "id": "ZrtsjB9VDeG5",
        "outputId": "64957031-e37d-4a5a-f737-3265a9b746ba"
      },
      "execution_count": 20,
      "outputs": [
        {
          "output_type": "stream",
          "name": "stdout",
          "text": [
            "Memory address: <memory at 0x7c4bf323fb90>\n",
            "Array shape: (2, 4)\n",
            "Array data type: int64\n",
            "Stride of the array: (32, 8)\n"
          ]
        }
      ]
    },
    {
      "cell_type": "code",
      "source": [
        "test_array = np.array([[1,2,3,4], [5,6,7,8]], dtype=np.int64)\n",
        "print(\"Test array:\")\n",
        "print(test_array)"
      ],
      "metadata": {
        "colab": {
          "base_uri": "https://localhost:8080/"
        },
        "id": "srei3IVBEeLv",
        "outputId": "4dd56f6d-ad03-4b76-9a70-23c693278b0e"
      },
      "execution_count": 22,
      "outputs": [
        {
          "output_type": "stream",
          "name": "stdout",
          "text": [
            "Test array:\n",
            "[[1 2 3 4]\n",
            " [5 6 7 8]]\n"
          ]
        }
      ]
    },
    {
      "cell_type": "code",
      "source": [
        "# creating an array with ones\n",
        "array_with_ones = np.ones((3,4))\n",
        "print(\"array_with_ones:\")\n",
        "print(array_with_ones)"
      ],
      "metadata": {
        "colab": {
          "base_uri": "https://localhost:8080/"
        },
        "id": "9TH2JuC4F_SW",
        "outputId": "f2f2b90d-4f60-435e-cf00-4dac46166915"
      },
      "execution_count": 23,
      "outputs": [
        {
          "output_type": "stream",
          "name": "stdout",
          "text": [
            "array_with_ones:\n",
            "[[1. 1. 1. 1.]\n",
            " [1. 1. 1. 1.]\n",
            " [1. 1. 1. 1.]]\n"
          ]
        }
      ]
    },
    {
      "cell_type": "code",
      "source": [
        "# creating an array with zeros\n",
        "array_with_zeros = np.zeros((2, 3, 4), dtype=np.int16)\n",
        "print(\"array with zeros:\")\n",
        "print(array_with_zeros)"
      ],
      "metadata": {
        "colab": {
          "base_uri": "https://localhost:8080/"
        },
        "id": "UhGGFqDYGQyi",
        "outputId": "45beda75-8c52-4240-e019-c414b760f9ce"
      },
      "execution_count": 26,
      "outputs": [
        {
          "output_type": "stream",
          "name": "stdout",
          "text": [
            "array with zeros:\n",
            "[[[0 0 0 0]\n",
            "  [0 0 0 0]\n",
            "  [0 0 0 0]]\n",
            "\n",
            " [[0 0 0 0]\n",
            "  [0 0 0 0]\n",
            "  [0 0 0 0]]]\n"
          ]
        }
      ]
    },
    {
      "cell_type": "code",
      "source": [
        "# creating an array with random values\n",
        "array_with_random_values = np.random.random((2,2))\n",
        "print(\"array with random values:\")\n",
        "print(array_with_random_values)"
      ],
      "metadata": {
        "colab": {
          "base_uri": "https://localhost:8080/"
        },
        "id": "ksUuOzgfG-dP",
        "outputId": "0c156056-5496-408d-db9e-b95abe899e89"
      },
      "execution_count": 27,
      "outputs": [
        {
          "output_type": "stream",
          "name": "stdout",
          "text": [
            "array with random values:\n",
            "[[0.7252345  0.00349828]\n",
            " [0.92110458 0.52065876]]\n"
          ]
        }
      ]
    },
    {
      "cell_type": "code",
      "source": [
        "# creating an array with no values (empty array)\n",
        "array_with_no_values = np.empty((3, 2))\n",
        "print(\"array with no values:\")\n",
        "print(array_with_no_values)"
      ],
      "metadata": {
        "colab": {
          "base_uri": "https://localhost:8080/"
        },
        "id": "A-igcrqKHMqp",
        "outputId": "e6b7151a-8bc8-414d-fc13-af34ae4536d9"
      },
      "execution_count": 30,
      "outputs": [
        {
          "output_type": "stream",
          "name": "stdout",
          "text": [
            "array with no values:\n",
            "[[2.87047458e-315 0.00000000e+000]\n",
            " [0.00000000e+000 0.00000000e+000]\n",
            " [0.00000000e+000 0.00000000e+000]]\n"
          ]
        }
      ]
    },
    {
      "cell_type": "code",
      "source": [
        "# creating an array filled with values\n",
        "full_array = np.full((2,2), 7)\n",
        "print(\"full array:\")\n",
        "print(full_array)"
      ],
      "metadata": {
        "colab": {
          "base_uri": "https://localhost:8080/"
        },
        "id": "15T9PcGeHxJV",
        "outputId": "b5cc4bb4-ffd2-4742-8d8c-a7bd36c4bb59"
      },
      "execution_count": 31,
      "outputs": [
        {
          "output_type": "stream",
          "name": "stdout",
          "text": [
            "full array:\n",
            "[[7 7]\n",
            " [7 7]]\n"
          ]
        }
      ]
    },
    {
      "cell_type": "code",
      "source": [
        "# creating an array with evenly spaced values\n",
        "arange_array = np.arange(0, 15, 5)\n",
        "print(\"arange array:\")\n",
        "print(arange_array)"
      ],
      "metadata": {
        "colab": {
          "base_uri": "https://localhost:8080/"
        },
        "id": "c-O7bAW0I5Re",
        "outputId": "3fc9a2fc-5cec-4df0-a54c-1efd8fa09f99"
      },
      "execution_count": 35,
      "outputs": [
        {
          "output_type": "stream",
          "name": "stdout",
          "text": [
            "arange array:\n",
            "[ 0  5 10]\n"
          ]
        }
      ]
    },
    {
      "cell_type": "code",
      "source": [
        "arange_array_two = np.linspace(0,2,9)\n",
        "print(\"arange array two:\")\n",
        "print(arange_array_two)"
      ],
      "metadata": {
        "colab": {
          "base_uri": "https://localhost:8080/"
        },
        "id": "wBLPtLOnJQBP",
        "outputId": "0f7f344e-e499-46ff-e1ee-df4c19d737c2"
      },
      "execution_count": 36,
      "outputs": [
        {
          "output_type": "stream",
          "name": "stdout",
          "text": [
            "arange array two:\n",
            "[0.   0.25 0.5  0.75 1.   1.25 1.5  1.75 2.  ]\n"
          ]
        }
      ]
    }
  ]
}