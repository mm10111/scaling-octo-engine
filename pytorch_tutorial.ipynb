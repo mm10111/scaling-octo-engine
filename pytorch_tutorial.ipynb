{
 "cells": [
  {
   "cell_type": "code",
   "execution_count": 1,
   "id": "074c815a",
   "metadata": {},
   "outputs": [],
   "source": [
    "# link to tutorial: https://docs.pytorch.org/tutorials/beginner/basics/quickstart_tutorial.html\n"
   ]
  },
  {
   "cell_type": "code",
   "execution_count": 3,
   "id": "d5a3c04d",
   "metadata": {},
   "outputs": [],
   "source": [
    "# pytorch has two primitives to work with data: torch.utils.data.DataLoader \n",
    "# and torch.utils.data.Dataset\n",
    "# Dataset stores the samples and their corresponding labels\n",
    "# DataLoader wraps an iterable around the dataset."
   ]
  },
  {
   "cell_type": "code",
   "execution_count": 1,
   "id": "a74247e6",
   "metadata": {},
   "outputs": [],
   "source": [
    "import torch \n",
    "from torch import nn\n",
    "from torch.utils.data import DataLoader\n",
    "from torchvision import datasets\n",
    "from torchvision.transforms import ToTensor"
   ]
  },
  {
   "cell_type": "code",
   "execution_count": 5,
   "id": "9ff81cc8",
   "metadata": {},
   "outputs": [],
   "source": [
    "# torchvision.datasets module contains Dataset objects for vision datasets"
   ]
  },
  {
   "cell_type": "code",
   "execution_count": 6,
   "id": "9a0863b7",
   "metadata": {},
   "outputs": [],
   "source": [
    "# for this tutorial we are using FashionMNIST dataset"
   ]
  },
  {
   "cell_type": "code",
   "execution_count": 7,
   "id": "e15ab765",
   "metadata": {},
   "outputs": [],
   "source": [
    "# every Torchvision dataset includes two arguments: transform and target_transform to modify their samples and labels respectively"
   ]
  },
  {
   "cell_type": "code",
   "execution_count": 2,
   "id": "a5231c56",
   "metadata": {},
   "outputs": [],
   "source": [
    "# download the training data\n",
    "training_data = datasets.FashionMNIST(\n",
    "    root=\"data\",\n",
    "    train=True,\n",
    "    download=True,\n",
    "    transform=ToTensor(),\n",
    ")\n",
    "\n",
    "# download test data\n",
    "test_data = datasets.FashionMNIST(\n",
    "    root=\"data\",\n",
    "    train=False,\n",
    "    download=True,\n",
    "    transform=ToTensor(),\n",
    ")"
   ]
  },
  {
   "cell_type": "code",
   "execution_count": 3,
   "id": "8db871d0",
   "metadata": {},
   "outputs": [],
   "source": [
    "# pass the Dataset as an argument to DataLoader.\n",
    "# this wraps an iterable over our dataset and supports automatic batching,\n",
    "# supports sampling, shuffling, and multiprocess data loading\n",
    "# here a batch size of 64 is defined. \n",
    "# each element in the dataloder iterable will return a batch of 64 features \n",
    "# and labels."
   ]
  },
  {
   "cell_type": "code",
   "execution_count": 3,
   "id": "df2ace89",
   "metadata": {},
   "outputs": [
    {
     "name": "stdout",
     "output_type": "stream",
     "text": [
      "Shape of X [N, C, H, W]: torch.Size([64, 1, 28, 28])\n",
      "Shape of your: torch.Size([64]) torch.int64\n"
     ]
    }
   ],
   "source": [
    "batch_size = 64\n",
    "# create data loaders\n",
    "train_dataloader = DataLoader(training_data, batch_size=batch_size)\n",
    "test_dataloader = DataLoader(test_data, batch_size=batch_size)\n",
    "\n",
    "for X, y in test_dataloader:\n",
    "    print(f\"Shape of X [N, C, H, W]: {X.shape}\")\n",
    "    print(f\"Shape of your: {y.shape} {y.dtype}\")\n",
    "    break"
   ]
  },
  {
   "cell_type": "code",
   "execution_count": 5,
   "id": "42e56599",
   "metadata": {},
   "outputs": [],
   "source": [
    "# creating models to define a neural network in pytorch, create a class\n",
    "# that inherits from nn.Module. we define the layers of the network\n",
    "# in the __init__ function and specify how data will pass through the\n",
    "# network in the forward function. to accelerate operations in the \n",
    "# neural network, we move it to the accelerator such as CUDA, MPS, MTIA\n",
    "# or XPU. if the current accelerator is available, use it otherwise the CPU\n"
   ]
  },
  {
   "cell_type": "code",
   "execution_count": 5,
   "id": "84201226",
   "metadata": {},
   "outputs": [
    {
     "name": "stdout",
     "output_type": "stream",
     "text": [
      "NeuralNetwork(\n",
      "  (flatten): Flatten(start_dim=1, end_dim=-1)\n",
      "  (linear_relu_stack): Sequential(\n",
      "    (0): Linear(in_features=784, out_features=512, bias=True)\n",
      "    (1): ReLU()\n",
      "    (2): Linear(in_features=512, out_features=512, bias=True)\n",
      "    (3): ReLU()\n",
      "    (4): Linear(in_features=512, out_features=10, bias=True)\n",
      "  )\n",
      ")\n"
     ]
    }
   ],
   "source": [
    "#device = torch.accelerator.current_accelerator().type if torch.accelerator.is_available() else \"cpu\"\n",
    "#print(f\"Using {device} device\")\n",
    "\n",
    "# define the model\n",
    "class NeuralNetwork(nn.Module):\n",
    "    def __init__(self):\n",
    "        super().__init__()\n",
    "        self.flatten = nn.Flatten()\n",
    "        self.linear_relu_stack = nn.Sequential(\n",
    "            nn.Linear(28*28, 512),\n",
    "            nn.ReLU(),\n",
    "            nn.Linear(512, 512),\n",
    "            nn.ReLU(),\n",
    "            nn.Linear(512, 10)\n",
    "        )\n",
    "    def forward(self, x):\n",
    "        x = self.flatten(x)\n",
    "        logits = self.linear_relu_stack(x)\n",
    "        return logits\n",
    "\n",
    "model = NeuralNetwork()\n",
    "print(model)"
   ]
  },
  {
   "cell_type": "code",
   "execution_count": 6,
   "id": "ecec5ca6",
   "metadata": {},
   "outputs": [],
   "source": [
    "# optimizing the model parameters \n",
    "loss_fn = nn.CrossEntropyLoss()\n",
    "optimizer = torch.optim.SGD(model.parameters(), lr=1e-3)"
   ]
  },
  {
   "cell_type": "code",
   "execution_count": 12,
   "id": "214eef1e",
   "metadata": {},
   "outputs": [],
   "source": [
    "# in a single training loop, the model makes predictions on the training\n",
    "# dataset (fed to it in batches) and backpropagates the prediction error\n",
    "# to adjust the models parameters\n",
    "\n",
    "def train(dataloader, model, loss_fn, optimizer):\n",
    "    size = len(dataloader.dataset)\n",
    "    model.train()\n",
    "    for batch, (X, y) in enumerate(dataloader):\n",
    "        #X, y = X.to(device), y.to(device)\n",
    "        \n",
    "        # compute the prediction error\n",
    "        pred = model(X)\n",
    "        loss = loss_fn(pred, y)\n",
    "        \n",
    "        # backpropogation\n",
    "        loss.backward()\n",
    "        optimizer.step()\n",
    "        optimizer.zero_grad()\n",
    "        \n",
    "        if batch % 100 == 0:\n",
    "            loss, current = loss.item(), (batch + 1) * len(X)\n",
    "            print(f\"loss: {loss:>7f} [{current:>5d}/{size:>5d}]\")"
   ]
  },
  {
   "cell_type": "code",
   "execution_count": 13,
   "id": "9a8fcb86",
   "metadata": {},
   "outputs": [],
   "source": [
    "def test(dataloader, model, loss_fn):\n",
    "    size = len(dataloader.dataset)\n",
    "    num_batches = len(dataloader)\n",
    "    model.eval()\n",
    "    test_loss, correct = 0, 0\n",
    "    with torch.no_grad():\n",
    "        for X, y in dataloader:\n",
    "            #X, y = X.to(device), y.to(device)\n",
    "            pred = model(X)\n",
    "            test_loss += loss_fn(pred, y).item()\n",
    "            correct += (pred.argmax(1) == y).type(torch.float).sum().item()\n",
    "    test_loss /= num_batches\n",
    "    correct /= size\n",
    "    print(f\"Test Error: \\n Accuracy: {(100*correct):>0.1f}%, Avg loss: {test_loss:>8f} \\n\")"
   ]
  },
  {
   "cell_type": "code",
   "execution_count": 14,
   "id": "a876222c",
   "metadata": {},
   "outputs": [],
   "source": [
    "# the training process is conducted oer several iterations (epochs).\n",
    "# during each epoch the model learns parameters to make better predictions\n",
    "# model accruacy and loss at each epoch is printed\n",
    "# goal is to see the accuracy increase and loss decrease with each epoch\n"
   ]
  },
  {
   "cell_type": "code",
   "execution_count": 15,
   "id": "d8bc35e3",
   "metadata": {},
   "outputs": [
    {
     "name": "stdout",
     "output_type": "stream",
     "text": [
      "Epoch 1\n",
      "------------------------\n",
      "loss: 2.301434 [   64/60000]\n",
      "loss: 2.290249 [ 6464/60000]\n",
      "loss: 2.269104 [12864/60000]\n",
      "loss: 2.261701 [19264/60000]\n",
      "loss: 2.260978 [25664/60000]\n",
      "loss: 2.228773 [32064/60000]\n",
      "loss: 2.241886 [38464/60000]\n",
      "loss: 2.210969 [44864/60000]\n",
      "loss: 2.199278 [51264/60000]\n",
      "loss: 2.177075 [57664/60000]\n",
      "Test Error: \n",
      " Accuracy: 39.3%, Avg loss: 2.167185 \n",
      "\n",
      "Epoch 2\n",
      "------------------------\n",
      "loss: 2.171471 [   64/60000]\n",
      "loss: 2.163525 [ 6464/60000]\n",
      "loss: 2.109342 [12864/60000]\n",
      "loss: 2.121628 [19264/60000]\n",
      "loss: 2.081834 [25664/60000]\n",
      "loss: 2.018794 [32064/60000]\n",
      "loss: 2.053362 [38464/60000]\n",
      "loss: 1.979922 [44864/60000]\n",
      "loss: 1.977162 [51264/60000]\n",
      "loss: 1.901173 [57664/60000]\n",
      "Test Error: \n",
      " Accuracy: 56.2%, Avg loss: 1.905895 \n",
      "\n",
      "Epoch 3\n",
      "------------------------\n",
      "loss: 1.932469 [   64/60000]\n",
      "loss: 1.900822 [ 6464/60000]\n",
      "loss: 1.795963 [12864/60000]\n",
      "loss: 1.826743 [19264/60000]\n",
      "loss: 1.721640 [25664/60000]\n",
      "loss: 1.663977 [32064/60000]\n",
      "loss: 1.692703 [38464/60000]\n",
      "loss: 1.602772 [44864/60000]\n",
      "loss: 1.614055 [51264/60000]\n",
      "loss: 1.505796 [57664/60000]\n",
      "Test Error: \n",
      " Accuracy: 63.4%, Avg loss: 1.532070 \n",
      "\n",
      "Epoch 4\n",
      "------------------------\n",
      "loss: 1.591019 [   64/60000]\n",
      "loss: 1.553665 [ 6464/60000]\n",
      "loss: 1.418093 [12864/60000]\n",
      "loss: 1.475769 [19264/60000]\n",
      "loss: 1.365321 [25664/60000]\n",
      "loss: 1.350538 [32064/60000]\n",
      "loss: 1.372360 [38464/60000]\n",
      "loss: 1.304547 [44864/60000]\n",
      "loss: 1.328084 [51264/60000]\n",
      "loss: 1.229678 [57664/60000]\n",
      "Test Error: \n",
      " Accuracy: 64.7%, Avg loss: 1.255529 \n",
      "\n",
      "Epoch 5\n",
      "------------------------\n",
      "loss: 1.329286 [   64/60000]\n",
      "loss: 1.308117 [ 6464/60000]\n",
      "loss: 1.150951 [12864/60000]\n",
      "loss: 1.244658 [19264/60000]\n",
      "loss: 1.130009 [25664/60000]\n",
      "loss: 1.143568 [32064/60000]\n",
      "loss: 1.174497 [38464/60000]\n",
      "loss: 1.116575 [44864/60000]\n",
      "loss: 1.150026 [51264/60000]\n",
      "loss: 1.066780 [57664/60000]\n",
      "Test Error: \n",
      " Accuracy: 65.6%, Avg loss: 1.084551 \n",
      "\n",
      "Done!\n"
     ]
    }
   ],
   "source": [
    "epochs = 5\n",
    "for t in range(epochs):\n",
    "    print(f\"Epoch {t+1}\\n------------------------\")\n",
    "    train(train_dataloader, model, loss_fn, optimizer)\n",
    "    test(test_dataloader, model, loss_fn)\n",
    "print(\"Done!\")"
   ]
  },
  {
   "cell_type": "code",
   "execution_count": 16,
   "id": "b2a50aa5",
   "metadata": {},
   "outputs": [
    {
     "name": "stdout",
     "output_type": "stream",
     "text": [
      "Saved Pytorch Model State to model.pth\n"
     ]
    }
   ],
   "source": [
    "# save the model\n",
    "torch.save(model.state_dict(), \"model.pth\")\n",
    "print(\"Saved Pytorch Model State to model.pth\")"
   ]
  },
  {
   "cell_type": "code",
   "execution_count": 17,
   "id": "36f057c7",
   "metadata": {},
   "outputs": [
    {
     "data": {
      "text/plain": [
       "<All keys matched successfully>"
      ]
     },
     "execution_count": 17,
     "metadata": {},
     "output_type": "execute_result"
    }
   ],
   "source": [
    "# load the model\n",
    "model = NeuralNetwork()\n",
    "model.load_state_dict(torch.load(\"model.pth\", weights_only=True))"
   ]
  },
  {
   "cell_type": "code",
   "execution_count": 18,
   "id": "e02d2980",
   "metadata": {},
   "outputs": [
    {
     "name": "stdout",
     "output_type": "stream",
     "text": [
      "Predicted: \"Ankle boot\", Actual: \"Ankle boot\"\n"
     ]
    }
   ],
   "source": [
    "classes = [\n",
    "    \"T-shirt/top\",\n",
    "    \"Trouser\",\n",
    "    \"Pullover\",\n",
    "    \"Dress\",\n",
    "    \"Coat\",\n",
    "    \"Sandal\",\n",
    "    \"Shirt\",\n",
    "    \"Sneaker\",\n",
    "    \"Bag\",\n",
    "    \"Ankle boot\",\n",
    "]\n",
    "\n",
    "model.eval()\n",
    "x, y = test_data[0][0], test_data[0][1]\n",
    "with torch.no_grad():\n",
    "    pred = model(x)\n",
    "    predicted, actual = classes[pred[0].argmax(0)], classes[y]\n",
    "    print(f'Predicted: \"{predicted}\", Actual: \"{actual}\"')"
   ]
  },
  {
   "cell_type": "code",
   "execution_count": null,
   "id": "fc3d1396",
   "metadata": {},
   "outputs": [],
   "source": []
  }
 ],
 "metadata": {
  "kernelspec": {
   "display_name": "Python 3 (ipykernel)",
   "language": "python",
   "name": "python3"
  },
  "language_info": {
   "codemirror_mode": {
    "name": "ipython",
    "version": 3
   },
   "file_extension": ".py",
   "mimetype": "text/x-python",
   "name": "python",
   "nbconvert_exporter": "python",
   "pygments_lexer": "ipython3",
   "version": "3.9.7"
  }
 },
 "nbformat": 4,
 "nbformat_minor": 5
}
